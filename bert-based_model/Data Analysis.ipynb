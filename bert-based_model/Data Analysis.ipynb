{
 "cells": [
  {
   "cell_type": "markdown",
   "metadata": {},
   "source": [
    "# Task1 Thesis Tagging Data Analysis"
   ]
  },
  {
   "cell_type": "code",
   "execution_count": 1,
   "metadata": {},
   "outputs": [
    {
     "name": "stderr",
     "output_type": "stream",
     "text": [
      "[nltk_data] Downloading package punkt to\n",
      "[nltk_data]     /home/student/05/b05505004/nltk_data...\n",
      "[nltk_data]   Package punkt is already up-to-date!\n"
     ]
    }
   ],
   "source": [
    "import os\n",
    "import pickle\n",
    "import numpy as np\n",
    "import pandas\n",
    "import nltk\n",
    "nltk.download('punkt')\n",
    "from tabulate import tabulate"
   ]
  },
  {
   "cell_type": "code",
   "execution_count": 2,
   "metadata": {},
   "outputs": [
    {
     "name": "stdout",
     "output_type": "stream",
     "text": [
      "{'number': 'T00001_S001', 'sentence': 'Modern cyber security operations collect an enormous amount of logging and alerting data.', 'label': [0]}\n"
     ]
    }
   ],
   "source": [
    "data_path = os.path.join(\"data\", \"train_processed.pkl\")\n",
    "with open(data_path, \"rb\") as f:\n",
    "    datas = pickle.load(f)\n",
    "data_len = len(datas)\n",
    "print(datas[0][0])"
   ]
  },
  {
   "cell_type": "code",
   "execution_count": 3,
   "metadata": {},
   "outputs": [],
   "source": [
    "total_len = 0\n",
    "sentence_cnt = 0\n",
    "max_sentence_len = 0\n",
    "max_sentence_per_article = 0\n",
    "\n",
    "label_cnt = np.zeros(6)\n",
    "correlation = np.zeros((6,6))\n",
    "label_position = np.zeros((25,6))\n",
    "\n",
    "for article in datas:\n",
    "    if len(article) > max_sentence_per_article:\n",
    "        max_sentence_per_article = len(article)\n",
    "    for order, data in enumerate(article):\n",
    "        tokens = nltk.word_tokenize(data[\"sentence\"])\n",
    "        cnt = len(tokens)\n",
    "        total_len += cnt\n",
    "        if cnt > max_sentence_len:\n",
    "            max_sentence_len = cnt\n",
    "        \n",
    "        for l in data[\"label\"]:\n",
    "            label_cnt[l] += 1\n",
    "            label_position[order][l] += 1\n",
    "            \n",
    "        for i in range(6):\n",
    "            for j in range(i + 1, 6):\n",
    "                if i in data[\"label\"] and j in data[\"label\"]:\n",
    "                    correlation[i][j] += 1\n",
    "                    correlation[j][i] += 1\n",
    "        sentence_cnt += 1\n",
    "avg_len = total_len / sentence_cnt\n",
    "label_percent = label_cnt / np.sum(label_cnt)"
   ]
  },
  {
   "cell_type": "markdown",
   "metadata": {},
   "source": [
    "## Some Statistics"
   ]
  },
  {
   "cell_type": "code",
   "execution_count": 4,
   "metadata": {},
   "outputs": [
    {
     "name": "stdout",
     "output_type": "stream",
     "text": [
      "Article count: 7000\n",
      "Sentence count: 46867\n",
      "Average sentence length: 25.507563957582093\n",
      "Max sentence length: 206\n",
      "Average sentence per article: 6.695285714285714\n",
      "Max sentence per article: 24\n"
     ]
    }
   ],
   "source": [
    "print(\"Article count: {}\".format(data_len))\n",
    "print(\"Sentence count: {}\".format(sentence_cnt))\n",
    "print(\"Average sentence length: {}\".format(avg_len))\n",
    "print(\"Max sentence length: {}\".format(max_sentence_len))\n",
    "print(\"Average sentence per article: {}\".format(sentence_cnt / data_len))\n",
    "print(\"Max sentence per article: {}\".format(max_sentence_per_article))"
   ]
  },
  {
   "cell_type": "markdown",
   "metadata": {},
   "source": [
    "## Count for Each Label Appearing"
   ]
  },
  {
   "cell_type": "code",
   "execution_count": 5,
   "metadata": {},
   "outputs": [
    {
     "name": "stdout",
     "output_type": "stream",
     "text": [
      "|   BACKGROUND |   OBJECTIVES |      METHODS |      RESULTS |   CONCLUSIONS |     OTHERS |\n",
      "|--------------+--------------+--------------+--------------+---------------+------------|\n",
      "| 13353        |  9329        | 13655        | 11772        |  5313         | 901        |\n",
      "|     0.245807 |     0.171732 |     0.251367 |     0.216704 |     0.0978039 |   0.016586 |\n"
     ]
    }
   ],
   "source": [
    "header = [\"BACKGROUND\",\"OBJECTIVES\",\"METHODS\",\"RESULTS\", \"CONCLUSIONS\",\"OTHERS\"]\n",
    "print(tabulate([label_cnt, label_percent], headers=header, tablefmt='orgtbl'))"
   ]
  },
  {
   "cell_type": "markdown",
   "metadata": {},
   "source": [
    "## Count for Two Labels Appearing Concurrently\n",
    "兩個 label 同時出現的次數統計"
   ]
  },
  {
   "cell_type": "code",
   "execution_count": 6,
   "metadata": {},
   "outputs": [
    {
     "name": "stdout",
     "output_type": "stream",
     "text": [
      "|             |   BACKGROUND |   OBJECTIVES |   METHODS |   RESULTS |   CONCLUSIONS |   OTHERS |\n",
      "|-------------+--------------+--------------+-----------+-----------+---------------+----------|\n",
      "| BACKGROUND  |            0 |         1034 |       349 |       179 |           115 |        0 |\n",
      "| OBJECTIVES  |         1034 |            0 |      1572 |       563 |           299 |        0 |\n",
      "| METHODS     |          349 |         1572 |         0 |      1500 |           417 |        0 |\n",
      "| RESULTS     |          179 |          563 |      1500 |         0 |          2372 |        0 |\n",
      "| CONCLUSIONS |          115 |          299 |       417 |      2372 |             0 |        0 |\n",
      "| OTHERS      |            0 |            0 |         0 |         0 |             0 |        0 |\n"
     ]
    }
   ],
   "source": [
    "correlation_row = [[h] + r for h,r in zip(header, correlation.tolist())]\n",
    "print(tabulate(correlation_row, headers=header, tablefmt='orgtbl'))"
   ]
  },
  {
   "cell_type": "markdown",
   "metadata": {},
   "source": [
    "## Count for Label Appearing in Specific Sentence Index \n",
    "文章段落中第 n 個句子出現特定 label 的次數統計"
   ]
  },
  {
   "cell_type": "code",
   "execution_count": 7,
   "metadata": {},
   "outputs": [
    {
     "name": "stdout",
     "output_type": "stream",
     "text": [
      "|    |   BACKGROUND |   OBJECTIVES |   METHODS |   RESULTS |   CONCLUSIONS |   OTHERS |\n",
      "|----+--------------+--------------+-----------+-----------+---------------+----------|\n",
      "|  0 |         5114 |         1908 |       346 |       265 |           134 |       62 |\n",
      "|  1 |         3825 |         1783 |      1432 |       538 |           185 |       84 |\n",
      "|  2 |         2163 |         1965 |      2292 |      1029 |           302 |       96 |\n",
      "|  3 |         1147 |         1504 |      2652 |      1615 |           525 |       90 |\n",
      "|  4 |          546 |          979 |      2433 |      1927 |           807 |      128 |\n",
      "|  5 |          283 |          554 |      1851 |      1912 |           821 |      113 |\n",
      "|  6 |          123 |          296 |      1228 |      1638 |           805 |       98 |\n",
      "|  7 |           67 |          168 |       710 |      1185 |           618 |       77 |\n",
      "|  8 |           35 |           93 |       371 |       760 |           453 |       53 |\n",
      "|  9 |           16 |           41 |       180 |       465 |           295 |       37 |\n",
      "| 10 |           12 |           18 |        98 |       220 |           179 |       25 |\n",
      "| 11 |           10 |           10 |        34 |       101 |            86 |       18 |\n",
      "| 12 |            4 |            4 |        15 |        56 |            52 |        7 |\n",
      "| 13 |            5 |            1 |         8 |        30 |            21 |        6 |\n",
      "| 14 |            3 |            1 |         2 |        16 |            10 |        4 |\n",
      "| 15 |            0 |            1 |         2 |         7 |             8 |        1 |\n",
      "| 16 |            0 |            1 |         0 |         2 |             4 |        0 |\n",
      "| 17 |            0 |            1 |         0 |         3 |             4 |        0 |\n",
      "| 18 |            0 |            1 |         1 |         1 |             1 |        0 |\n",
      "| 19 |            0 |            0 |         0 |         1 |             0 |        1 |\n",
      "| 20 |            0 |            0 |         0 |         1 |             0 |        1 |\n",
      "| 21 |            0 |            0 |         0 |         0 |             1 |        0 |\n",
      "| 22 |            0 |            0 |         0 |         0 |             1 |        0 |\n",
      "| 23 |            0 |            0 |         0 |         0 |             1 |        0 |\n",
      "| 24 |            0 |            0 |         0 |         0 |             0 |        0 |\n"
     ]
    }
   ],
   "source": [
    "label_position_row = [[i] + r for i,r in enumerate(label_position.tolist())]\n",
    "print(tabulate(label_position_row, headers=header, tablefmt='orgtbl'))"
   ]
  }
 ],
 "metadata": {
  "kernelspec": {
   "display_name": "Python 3",
   "language": "python",
   "name": "python3"
  },
  "language_info": {
   "codemirror_mode": {
    "name": "ipython",
    "version": 3
   },
   "file_extension": ".py",
   "mimetype": "text/x-python",
   "name": "python",
   "nbconvert_exporter": "python",
   "pygments_lexer": "ipython3",
   "version": "3.7.4"
  }
 },
 "nbformat": 4,
 "nbformat_minor": 2
}
